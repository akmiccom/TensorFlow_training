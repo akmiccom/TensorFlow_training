{
 "cells": [
  {
   "cell_type": "markdown",
   "metadata": {},
   "source": [
    "## tf.data: TensorFlow 入力パイプラインの構築\n",
    "- データセットを作成するには、次の 2 つの方法があります。\n",
    "  - データソースによって、メモリまたは 1 つ以上のファイルに格納されたデータから Dataset を作成する\n",
    "  - データ変換によって、1 つ以上の tf.data.Dataset オブジェクトからデータセットを作成する。\n"
   ]
  },
  {
   "cell_type": "code",
   "execution_count": null,
   "metadata": {},
   "outputs": [],
   "source": [
    "import tensorflow as tf\n",
    "\n",
    "import pathlib\n",
    "import os\n",
    "import matplotlib.pyplot as plt\n",
    "import pandas as pd\n",
    "import numpy as np\n",
    "\n",
    "np.set_printoptions(precision=4)"
   ]
  }
 ],
 "metadata": {
  "language_info": {
   "name": "python"
  }
 },
 "nbformat": 4,
 "nbformat_minor": 2
}
