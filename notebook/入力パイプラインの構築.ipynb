{
 "cells": [
  {
   "cell_type": "markdown",
   "metadata": {},
   "source": [
    "## tf.data: TensorFlow 入力パイプラインの構築\n",
    "- データセットを作成するには、次の 2 つの方法がある\n",
    "  - データソースによって、メモリまたは 1 つ以上のファイルに格納されたデータから Dataset を作成する\n",
    "  - データ変換によって、1 つ以上の tf.data.Dataset オブジェクトからデータセットを作成する\n",
    "\n",
    "- [TensorFlowで使えるデータセット機能が強かった話](https://qiita.com/Suguru_Toyohara/items/820b0dad955ecd91c7f3)\n"
   ]
  },
  {
   "cell_type": "code",
   "execution_count": 1,
   "metadata": {},
   "outputs": [],
   "source": [
    "import tensorflow as tf\n",
    "\n",
    "import pathlib\n",
    "import os\n",
    "import matplotlib.pyplot as plt\n",
    "import pandas as pd\n",
    "import numpy as np\n",
    "\n",
    "np.set_printoptions(precision=4) # 小数点以下の桁数指定"
   ]
  },
  {
   "cell_type": "markdown",
   "metadata": {},
   "source": [
    "### 入力パイプラインの作成\n",
    "- Detaset の作成\n",
    "  - tf.data.Dataset.from_tensors()\n",
    "  - tf.data.Dataset.from_tensor_slices()\n",
    "  - tf.data.TFRecordDataset()\n",
    "\n",
    "- 新しい Dataset オブジェクトに変換\n",
    "  - Dataset.map 要素ごとの変換を適用\n",
    "  - Dataset.batch() 複数の要素に対する変換を適用\n",
    "\n",
    "- Dataset オブジェクトは Python イテラブルで、for ループを使って、その要素を消費することができる"
   ]
  },
  {
   "cell_type": "code",
   "execution_count": 2,
   "metadata": {},
   "outputs": [
    {
     "name": "stdout",
     "output_type": "stream",
     "text": [
      "<class 'tensorflow.python.data.ops.from_tensor_slices_op._TensorSliceDataset'>\n",
      "tf.Tensor(8, shape=(), dtype=int32) -> 8 () <dtype: 'int32'>\n",
      "tf.Tensor(3, shape=(), dtype=int32) -> 3 () <dtype: 'int32'>\n",
      "tf.Tensor(0, shape=(), dtype=int32) -> 0 () <dtype: 'int32'>\n",
      "tf.Tensor(8, shape=(), dtype=int32) -> 8 () <dtype: 'int32'>\n",
      "tf.Tensor(2, shape=(), dtype=int32) -> 2 () <dtype: 'int32'>\n",
      "tf.Tensor(1, shape=(), dtype=int32) -> 1 () <dtype: 'int32'>\n"
     ]
    }
   ],
   "source": [
    "dataset = tf.data.Dataset.from_tensor_slices([8, 3, 0, 8, 2, 1])\n",
    "print(type(dataset))\n",
    "\n",
    "for elem in dataset:\n",
    "    print(elem, '->', elem.numpy(), elem.shape, elem.dtype)"
   ]
  },
  {
   "cell_type": "markdown",
   "metadata": {},
   "source": [
    "- reduce 変換\n",
    "  - 単一の結果を得るためにすべての要素が減らされる\n",
    "  - 例では、整数のデータセットの合計を計算するために reduce 変換を使用している"
   ]
  },
  {
   "cell_type": "code",
   "execution_count": 3,
   "metadata": {},
   "outputs": [
    {
     "name": "stdout",
     "output_type": "stream",
     "text": [
      "22\n"
     ]
    }
   ],
   "source": [
    "print(dataset.reduce(0, lambda state, value: state + value).numpy())"
   ]
  },
  {
   "cell_type": "markdown",
   "metadata": {},
   "source": [
    "### データセットの構造\n",
    "- 要素ごとに同じ（ネスト）構造のコンポーネントを持つ一連の要素を生成\n",
    "- 構造の各コンポーネントは tf.TypeSpec で表現可能な\n",
    "  - tf.Tensor\n",
    "  - tf.sparse.SparseTensor\n",
    "  - tf.RaggedTensor\n",
    "  - tf.TensorArray\n",
    "  - tf.data.Dataset など、あらゆる型を持つことができます\n",
    "- 各要素コンポーネントの型を検査するには、Dataset.element_spec プロパティを使用\n",
    "- tf.TypeSpec オブジェクトのネストされた構造を、要素の構造を一致させて返す\n",
    "- 単一のコンポーネント、コンポーネントのタプル、またはコンポーネントのネストされたタプルである場合がある\n",
    "  - tf.sparse.SparseTensor(indices=[[0, 3], [2, 4]], values=[10, 20], dense_shape=[3, 10])\n",
    "    <!-- - ![SparseTensor.png](../images/SparseTensor.png) -->"
   ]
  },
  {
   "cell_type": "code",
   "execution_count": 4,
   "metadata": {},
   "outputs": [
    {
     "name": "stdout",
     "output_type": "stream",
     "text": [
      "TensorSpec(shape=(10,), dtype=tf.float32, name=None)\n",
      "(TensorSpec(shape=(), dtype=tf.float32, name=None), TensorSpec(shape=(100,), dtype=tf.int32, name=None))\n",
      "(TensorSpec(shape=(10,), dtype=tf.float32, name=None), (TensorSpec(shape=(), dtype=tf.float32, name=None), TensorSpec(shape=(100,), dtype=tf.int32, name=None)))\n"
     ]
    }
   ],
   "source": [
    "dataset1 = tf.data.Dataset.from_tensor_slices(tf.random.uniform([4, 10]))\n",
    "print(dataset1.element_spec)\n",
    "\n",
    "dataset2 = tf.data.Dataset.from_tensor_slices(\n",
    "    (tf.random.uniform([4]), tf.random.uniform([4, 100], maxval=100, dtype=tf.int32))\n",
    ")\n",
    "print(dataset2.element_spec)\n",
    "\n",
    "dataset3 = tf.data.Dataset.zip((dataset1, dataset2))\n",
    "print(dataset3.element_spec)"
   ]
  },
  {
   "cell_type": "code",
   "execution_count": 5,
   "metadata": {},
   "outputs": [
    {
     "name": "stdout",
     "output_type": "stream",
     "text": [
      "SparseTensorSpec(TensorShape([3, 10]), tf.int32)\n",
      "<class 'tensorflow.python.framework.sparse_tensor.SparseTensor'>\n"
     ]
    }
   ],
   "source": [
    "# Dataset containing a sparse tensor.\n",
    "dataset4 = tf.data.Dataset.from_tensors(\n",
    "    tf.sparse.SparseTensor(indices=[[0, 3], [2, 4]], values=[10, 20], dense_shape=[3, 10])\n",
    ")\n",
    "print(dataset4.element_spec)\n",
    "# Use value_type to see the type of value represented by the element spec\n",
    "print(dataset4.element_spec.value_type)\n"
   ]
  },
  {
   "cell_type": "markdown",
   "metadata": {},
   "source": [
    "- Dataset 変換では、あらゆる構造のデータセットがサポートされている\n",
    "- Dataset.map を使用し、各要素に関数を適用する Dataset.filter 変換を適用すると、要素の構造によって関数の引数が判定される"
   ]
  },
  {
   "cell_type": "code",
   "execution_count": 6,
   "metadata": {},
   "outputs": [
    {
     "name": "stdout",
     "output_type": "stream",
     "text": [
      "[9 1 1 7 1 6 3 2 2 3]\n",
      "[5 4 6 1 3 1 9 5 7 2]\n",
      "[7 9 1 2 5 1 5 4 7 6]\n",
      "[3 4 8 8 9 5 4 4 1 5]\n"
     ]
    }
   ],
   "source": [
    "dataset1 = tf.data.Dataset.from_tensor_slices(\n",
    "    tf.random.uniform([4, 10], minval=1, maxval=10, dtype=tf.int32))\n",
    "\n",
    "for z in dataset1:\n",
    "    print(z.numpy())"
   ]
  },
  {
   "cell_type": "code",
   "execution_count": 7,
   "metadata": {},
   "outputs": [
    {
     "name": "stdout",
     "output_type": "stream",
     "text": [
      "<_TensorSliceDataset element_spec=(TensorSpec(shape=(), dtype=tf.float32, name=None), TensorSpec(shape=(10,), dtype=tf.int32, name=None))>\n",
      "tf.Tensor(0.01894021, shape=(), dtype=float32)\n",
      "tf.Tensor([30 13 36 86 19 28  4 93 79 37], shape=(10,), dtype=int32)\n",
      "tf.Tensor(0.6443261, shape=(), dtype=float32)\n",
      "tf.Tensor([31 12 44  6 31 68 49 20 19 44], shape=(10,), dtype=int32)\n",
      "tf.Tensor(0.46158588, shape=(), dtype=float32)\n",
      "tf.Tensor([73 49 51 43 43 99 12 83  4 98], shape=(10,), dtype=int32)\n",
      "tf.Tensor(0.563434, shape=(), dtype=float32)\n",
      "tf.Tensor([34 79 51 31  5 50 73 39 70  0], shape=(10,), dtype=int32)\n"
     ]
    }
   ],
   "source": [
    "dataset2 = tf.data.Dataset.from_tensor_slices((\n",
    "    tf.random.uniform([4]),\n",
    "    tf.random.uniform([4, 10], maxval=100, dtype=tf.int32)\n",
    "))\n",
    "print(dataset2)\n",
    "\n",
    "for z in dataset2:\n",
    "    # print(z)\n",
    "    for i in z:\n",
    "        print(i)"
   ]
  },
  {
   "cell_type": "code",
   "execution_count": 8,
   "metadata": {},
   "outputs": [
    {
     "name": "stdout",
     "output_type": "stream",
     "text": [
      "shapes: (10,), (), (10,)\n",
      "shapes: (10,), (), (10,)\n",
      "shapes: (10,), (), (10,)\n",
      "shapes: (10,), (), (10,)\n"
     ]
    }
   ],
   "source": [
    "dataset3 = tf.data.Dataset.zip((dataset1, dataset2))\n",
    "dataset3\n",
    "\n",
    "for a, (b,c) in dataset3:\n",
    "  print(f'shapes: {a.shape}, {b.shape}, {c.shape}')"
   ]
  },
  {
   "cell_type": "markdown",
   "metadata": {},
   "source": [
    "### 入力データの読み取り\n",
    "- NumPy 配列のすべての入力データがメモリに収容できる場合\n",
    "- このデータから Dataset を作成するには、データを tf.Tensor オブジェクトに変換して\n",
    "- Dataset.from_tensor_slices を使用するのが最も簡単な方法である"
   ]
  },
  {
   "cell_type": "code",
   "execution_count": 16,
   "metadata": {},
   "outputs": [
    {
     "data": {
      "text/plain": [
       "(TensorSpec(shape=(28, 28), dtype=tf.float64, name=None),\n",
       " TensorSpec(shape=(), dtype=tf.uint8, name=None))"
      ]
     },
     "execution_count": 16,
     "metadata": {},
     "output_type": "execute_result"
    }
   ],
   "source": [
    "train, test = tf.keras.datasets.fashion_mnist.load_data()\n",
    "images, labels = train\n",
    "images = images / 255\n",
    "dataset = tf.data.Dataset.from_tensor_slices((images, labels))\n",
    "\n",
    "dataset.element_spec"
   ]
  },
  {
   "cell_type": "code",
   "execution_count": 33,
   "metadata": {},
   "outputs": [
    {
     "name": "stdout",
     "output_type": "stream",
     "text": [
      "[0 1 2 3 4 5 6 7 8 9]\n",
      "[10 11 12 13 14 15 16 17 18 19]\n",
      "[20 21 22 23 24  0  1  2  3  4]\n",
      "[ 5  6  7  8  9 10 11 12 13 14]\n",
      "[15 16 17 18 19 20 21 22 23 24]\n"
     ]
    }
   ],
   "source": [
    "def count(stop):\n",
    "    i = 0\n",
    "    while i < stop:\n",
    "        yield i\n",
    "        i += 1\n",
    "\n",
    "\n",
    "# for n in count(5):\n",
    "#   print(n)\n",
    "\n",
    "ds_counter = tf.data.Dataset.from_generator(\n",
    "    count,\n",
    "    args=[25],\n",
    "    output_types=tf.int32,\n",
    "    output_shapes=(),\n",
    ")\n",
    "\n",
    "for count_batch in ds_counter.repeat().batch(10).take(5):\n",
    "    print(count_batch.numpy())"
   ]
  },
  {
   "cell_type": "markdown",
   "metadata": {},
   "source": [
    "### tf.keras と tf.data を使用する\n",
    "- tf.keras API は、機械学習モデルの作成や実行に関する多くの側面を単純化する\n",
    "- その Model.fit、Model.evaluate、および Model.predict APIは、入力としてのデータセットをサポートする\n",
    "- 簡単なデータセットとモデルのセットアップ(学習)を例に見る"
   ]
  },
  {
   "cell_type": "code",
   "execution_count": 58,
   "metadata": {},
   "outputs": [
    {
     "name": "stdout",
     "output_type": "stream",
     "text": [
      "shape: (28, 28), label:9\n",
      "shape: (28, 28), label:0\n",
      "shapes: (64, 28, 28), labels:[9 1 8 7 6 1 0 2 9 5 9 3 0 5 7 4 7 4 6 8 4 1 0 3 2 1 1 5 6 5 9 5 6 9 2 5 2\n",
      " 4 0 1 2 5 3 9 7 0 1 6 2 9 0 7 4 7 3 1 6 1 3 0 4 5 9 9]\n",
      "shapes: (64, 28, 28), labels:[5 2 8 9 5 2 3 2 2 6 0 8 4 7 4 9 5 6 1 1 5 1 4 8 6 4 5 2 7 9 1 0 4 1 8 1 2\n",
      " 9 7 4 2 7 3 9 2 9 0 7 6 3 1 4 6 4 1 4 5 5 2 1 8 6 4 2]\n"
     ]
    }
   ],
   "source": [
    "train, test = tf.keras.datasets.fashion_mnist.load_data()\n",
    "\n",
    "images, labels = train\n",
    "images = images / 255.0\n",
    "labels = labels.astype(np.int32)\n",
    "\n",
    "fmnist_train_ds = tf.data.Dataset.from_tensor_slices((images, labels))\n",
    "\n",
    "for a, b in fmnist_train_ds.take(2):\n",
    "    print(f\"shape: {a.shape}, label:{b}\")\n",
    "\n",
    "fmnist_train_ds = fmnist_train_ds.shuffle(5000).batch(64)\n",
    "for a, b in fmnist_train_ds.take(2):\n",
    "    print(f\"shapes: {a.shape}, labels:{b}\")\n",
    "\n",
    "model = tf.keras.Sequential([tf.keras.layers.Flatten(), tf.keras.layers.Dense(10)])\n",
    "\n",
    "model.compile(\n",
    "    optimizer=\"adam\",\n",
    "    loss=tf.keras.losses.SparseCategoricalCrossentropy(from_logits=True),\n",
    "    metrics=[\"accuracy\"],\n",
    ")\n",
    "\n",
    "# model.summary()"
   ]
  },
  {
   "cell_type": "code",
   "execution_count": 59,
   "metadata": {},
   "outputs": [
    {
     "name": "stdout",
     "output_type": "stream",
     "text": [
      "Epoch 1/2\n",
      "\u001b[1m938/938\u001b[0m \u001b[32m━━━━━━━━━━━━━━━━━━━━\u001b[0m\u001b[37m\u001b[0m \u001b[1m2s\u001b[0m 2ms/step - accuracy: 0.7115 - loss: 0.8750\n",
      "Epoch 2/2\n",
      "\u001b[1m938/938\u001b[0m \u001b[32m━━━━━━━━━━━━━━━━━━━━\u001b[0m\u001b[37m\u001b[0m \u001b[1m2s\u001b[0m 2ms/step - accuracy: 0.8337 - loss: 0.4946\n"
     ]
    },
    {
     "data": {
      "text/plain": [
       "<keras.src.callbacks.history.History at 0x14e20b59790>"
      ]
     },
     "execution_count": 59,
     "metadata": {},
     "output_type": "execute_result"
    }
   ],
   "source": [
    "model.fit(fmnist_train_ds, epochs=2)"
   ]
  },
  {
   "cell_type": "code",
   "execution_count": 60,
   "metadata": {},
   "outputs": [
    {
     "name": "stdout",
     "output_type": "stream",
     "text": [
      "Epoch 1/2\n",
      "\u001b[1m20/20\u001b[0m \u001b[32m━━━━━━━━━━━━━━━━━━━━\u001b[0m\u001b[37m\u001b[0m \u001b[1m0s\u001b[0m 723us/step - accuracy: 0.8422 - loss: 0.4779\n",
      "Epoch 2/2\n",
      "\u001b[1m20/20\u001b[0m \u001b[32m━━━━━━━━━━━━━━━━━━━━\u001b[0m\u001b[37m\u001b[0m \u001b[1m0s\u001b[0m 1ms/step - accuracy: 0.8404 - loss: 0.4547\n"
     ]
    },
    {
     "data": {
      "text/plain": [
       "<keras.src.callbacks.history.History at 0x14e2212d350>"
      ]
     },
     "execution_count": 60,
     "metadata": {},
     "output_type": "execute_result"
    }
   ],
   "source": [
    "model.fit(fmnist_train_ds.repeat(), epochs=2, steps_per_epoch=20)"
   ]
  },
  {
   "cell_type": "code",
   "execution_count": 61,
   "metadata": {},
   "outputs": [
    {
     "name": "stdout",
     "output_type": "stream",
     "text": [
      "\u001b[1m938/938\u001b[0m \u001b[32m━━━━━━━━━━━━━━━━━━━━\u001b[0m\u001b[37m\u001b[0m \u001b[1m1s\u001b[0m 1ms/step - accuracy: 0.8475 - loss: 0.4549\n",
      "Loss : 0.4529654085636139\n",
      "Accuracy : 0.8477833271026611\n"
     ]
    }
   ],
   "source": [
    "loss, accuracy = model.evaluate(fmnist_train_ds)\n",
    "print(\"Loss :\", loss)\n",
    "print(\"Accuracy :\", accuracy)"
   ]
  },
  {
   "cell_type": "markdown",
   "metadata": {},
   "source": [
    "## TensorFlowで使えるデータセット機能が強かった話\n",
    "- Batchごとにデータを排出\n",
    "- データをShuffleしながら排出\n",
    "- データを指定回数 Repeat しながら排出\n",
    "- チェインメソッドにより複雑に変形可能\n",
    "- データを途中で変換掛けながら排出\n",
    "- GPU演算中にCPUでデータセットを用意"
   ]
  },
  {
   "cell_type": "markdown",
   "metadata": {},
   "source": [
    "データセットの作成"
   ]
  },
  {
   "cell_type": "code",
   "execution_count": 68,
   "metadata": {},
   "outputs": [
    {
     "name": "stdout",
     "output_type": "stream",
     "text": [
      "tf.Tensor(0, shape=(), dtype=int32)\n",
      "tf.Tensor(1, shape=(), dtype=int32)\n",
      "tf.Tensor(2, shape=(), dtype=int32)\n"
     ]
    }
   ],
   "source": [
    "import tensorflow as tf\n",
    "import tensorflow.keras as keras\n",
    "\n",
    "dataset = tf.data.Dataset.from_tensor_slices(tf.range(3))\n",
    "for item in dataset:\n",
    "    print(item)"
   ]
  },
  {
   "cell_type": "code",
   "execution_count": 71,
   "metadata": {},
   "outputs": [
    {
     "name": "stdout",
     "output_type": "stream",
     "text": [
      "tf.Tensor(0, shape=(), dtype=int32)\n",
      "tf.Tensor(1, shape=(), dtype=int32)\n",
      "tf.Tensor(2, shape=(), dtype=int32)\n"
     ]
    }
   ],
   "source": [
    "dataset = tf.data.Dataset.from_tensor_slices([i for i in range(3)])\n",
    "for item in dataset:\n",
    "    print(item)"
   ]
  },
  {
   "cell_type": "code",
   "execution_count": 79,
   "metadata": {},
   "outputs": [
    {
     "name": "stdout",
     "output_type": "stream",
     "text": [
      "tf.Tensor(0, shape=(), dtype=int32) tf.Tensor(10, shape=(), dtype=int32)\n",
      "tf.Tensor(1, shape=(), dtype=int32) tf.Tensor(11, shape=(), dtype=int32)\n",
      "tf.Tensor(2, shape=(), dtype=int32) tf.Tensor(12, shape=(), dtype=int32)\n"
     ]
    }
   ],
   "source": [
    "dataset = tf.data.Dataset.from_tensor_slices((tf.range(3), tf.range(10, 13)))\n",
    "for item1, item2 in dataset:\n",
    "    print(item1, item2)"
   ]
  },
  {
   "cell_type": "code",
   "execution_count": 82,
   "metadata": {},
   "outputs": [
    {
     "name": "stdout",
     "output_type": "stream",
     "text": [
      "tf.Tensor(-3, shape=(), dtype=int32) tf.Tensor(0, shape=(), dtype=int32) tf.Tensor(10, shape=(), dtype=int32)\n",
      "tf.Tensor(-2, shape=(), dtype=int32) tf.Tensor(1, shape=(), dtype=int32) tf.Tensor(11, shape=(), dtype=int32)\n",
      "tf.Tensor(-1, shape=(), dtype=int32) tf.Tensor(2, shape=(), dtype=int32) tf.Tensor(12, shape=(), dtype=int32)\n"
     ]
    }
   ],
   "source": [
    "datasetX = tf.data.Dataset.from_tensor_slices(tf.range(-3, 0))\n",
    "datasetY = tf.data.Dataset.from_tensor_slices((tf.range(3), tf.range(10, 13)))\n",
    "dataset = tf.data.Dataset.zip((datasetX, datasetY))\n",
    "for itemX, (itemY1, itemY2) in dataset:\n",
    "    print(itemX, itemY1, itemY2)"
   ]
  },
  {
   "cell_type": "code",
   "execution_count": 96,
   "metadata": {},
   "outputs": [
    {
     "name": "stdout",
     "output_type": "stream",
     "text": [
      "tf.Tensor([0 1 2 3 4 5 6 7 8 9], shape=(10,), dtype=int32)\n",
      "tf.Tensor([10 11 12 13 14 15 16 17 18 19], shape=(10,), dtype=int32)\n"
     ]
    }
   ],
   "source": [
    "dataset = tf.data.Dataset.from_tensor_slices(tf.range(20)).batch(10)\n",
    "for item in dataset:\n",
    "    print(item)"
   ]
  },
  {
   "cell_type": "code",
   "execution_count": 92,
   "metadata": {},
   "outputs": [
    {
     "name": "stdout",
     "output_type": "stream",
     "text": [
      "tf.Tensor(0, shape=(), dtype=int32)\n",
      "tf.Tensor(1, shape=(), dtype=int32)\n",
      "tf.Tensor(0, shape=(), dtype=int32)\n",
      "tf.Tensor(1, shape=(), dtype=int32)\n",
      "tf.Tensor(0, shape=(), dtype=int32)\n",
      "tf.Tensor(1, shape=(), dtype=int32)\n"
     ]
    }
   ],
   "source": [
    "dataset = tf.data.Dataset.from_tensor_slices(tf.range(2)).repeat(3)\n",
    "for item in dataset:\n",
    "    print(item)"
   ]
  },
  {
   "cell_type": "code",
   "execution_count": 97,
   "metadata": {},
   "outputs": [
    {
     "name": "stdout",
     "output_type": "stream",
     "text": [
      "tf.Tensor([0 1 2 3 4 5 6], shape=(7,), dtype=int32)\n",
      "tf.Tensor([7 8 9 0 1 2 3], shape=(7,), dtype=int32)\n",
      "tf.Tensor([4 5 6 7 8 9 0], shape=(7,), dtype=int32)\n",
      "tf.Tensor([1 2 3 4 5 6 7], shape=(7,), dtype=int32)\n",
      "tf.Tensor([8 9], shape=(2,), dtype=int32)\n"
     ]
    }
   ],
   "source": [
    "dataset = tf.data.Dataset.from_tensor_slices(tf.range(10)).repeat(3).batch(7)\n",
    "for item in dataset:\n",
    "    print(item)"
   ]
  },
  {
   "cell_type": "code",
   "execution_count": 107,
   "metadata": {},
   "outputs": [
    {
     "name": "stdout",
     "output_type": "stream",
     "text": [
      "tf.Tensor(0, shape=(), dtype=int32)\n",
      "tf.Tensor(2, shape=(), dtype=int32)\n",
      "tf.Tensor(3, shape=(), dtype=int32)\n",
      "tf.Tensor(4, shape=(), dtype=int32)\n",
      "tf.Tensor(1, shape=(), dtype=int32)\n"
     ]
    }
   ],
   "source": [
    "dataset = tf.data.Dataset.from_tensor_slices(tf.range(5)).shuffle(10)\n",
    "for item in dataset:\n",
    "    print(item)"
   ]
  },
  {
   "cell_type": "code",
   "execution_count": 110,
   "metadata": {},
   "outputs": [
    {
     "name": "stdout",
     "output_type": "stream",
     "text": [
      "tf.Tensor(0, shape=(), dtype=int32)\n",
      "tf.Tensor(1, shape=(), dtype=int32)\n",
      "tf.Tensor(16, shape=(), dtype=int32)\n",
      "tf.Tensor(81, shape=(), dtype=int32)\n",
      "tf.Tensor(256, shape=(), dtype=int32)\n",
      "tf.Tensor(625, shape=(), dtype=int32)\n",
      "tf.Tensor(1296, shape=(), dtype=int32)\n",
      "tf.Tensor(2401, shape=(), dtype=int32)\n"
     ]
    }
   ],
   "source": [
    "dataset = tf.data.Dataset.from_tensor_slices(tf.range(8)).map(lambda x: x**4)\n",
    "for item in dataset:\n",
    "    print(item)"
   ]
  },
  {
   "cell_type": "code",
   "execution_count": 114,
   "metadata": {},
   "outputs": [
    {
     "name": "stdout",
     "output_type": "stream",
     "text": [
      "tf.Tensor(0, shape=(), dtype=int32) tf.Tensor(0, shape=(), dtype=int32)\n",
      "tf.Tensor(1, shape=(), dtype=int32) tf.Tensor(1, shape=(), dtype=int32)\n",
      "tf.Tensor(2, shape=(), dtype=int32) tf.Tensor(4, shape=(), dtype=int32)\n",
      "tf.Tensor(3, shape=(), dtype=int32) tf.Tensor(9, shape=(), dtype=int32)\n",
      "tf.Tensor(4, shape=(), dtype=int32) tf.Tensor(16, shape=(), dtype=int32)\n",
      "tf.Tensor(5, shape=(), dtype=int32) tf.Tensor(25, shape=(), dtype=int32)\n",
      "tf.Tensor(6, shape=(), dtype=int32) tf.Tensor(36, shape=(), dtype=int32)\n",
      "tf.Tensor(7, shape=(), dtype=int32) tf.Tensor(49, shape=(), dtype=int32)\n"
     ]
    }
   ],
   "source": [
    "dataset = tf.data.Dataset.from_tensor_slices(tf.range(8)).map(lambda x: (x, x**2))\n",
    "for item1, item2 in dataset:\n",
    "    print(item1, item2)"
   ]
  },
  {
   "cell_type": "code",
   "execution_count": 20,
   "metadata": {},
   "outputs": [
    {
     "data": {
      "image/png": "[encoded data removed]",
      "text/plain": [
       "<Figure size 640x480 with 16 Axes>"
      ]
     },
     "metadata": {},
     "output_type": "display_data"
    }
   ],
   "source": [
    "import matplotlib.pyplot as plt\n",
    "import numpy as np\n",
    "from scipy import ndimage\n",
    "\n",
    "import tensorflow as tf\n",
    "import tensorflow.keras as keras\n",
    "\n",
    "\n",
    "def rotate(image):\n",
    "    return ndimage.rotate(image, np.random.uniform(-45, 45), reshape=False)\n",
    "\n",
    "\n",
    "@tf.function\n",
    "def rotate_tf(image):\n",
    "    rotated = tf.py_function(rotate, [image], [tf.int32])\n",
    "    return rotated[0]\n",
    "\n",
    "\n",
    "(train_x, train_y), (test_x, test_y) = keras.datasets.mnist.load_data()\n",
    "train_x = train_x.reshape(-1, 28, 28, 1)\n",
    "train_ds = tf.data.Dataset.from_tensor_slices(train_x)\n",
    "batched_train_ds = train_ds.map(rotate_tf).batch(16)  # ここが肝心のMap\n",
    "# batched_train_ds = train_ds.batch(16)\n",
    "\n",
    "\n",
    "# pick images in first batch\n",
    "first_batch = next(iter(batched_train_ds))\n",
    "sample_images = first_batch.numpy().reshape((-1, 28, 28))\n",
    "\n",
    "plt.figure(facecolor=\"white\")\n",
    "for i, sample_image in enumerate(sample_images):\n",
    "    plt.subplot(4, 4, i + 1)\n",
    "    plt.imshow(sample_image)\n",
    "    plt.grid(False)\n",
    "    plt.axis(False)\n",
    "plt.show()"
   ]
  }
 ],
 "metadata": {
  "kernelspec": {
   "display_name": ".venv",
   "language": "python",
   "name": "python3"
  },
  "language_info": {
   "codemirror_mode": {
    "name": "ipython",
    "version": 3
   },
   "file_extension": ".py",
   "mimetype": "text/x-python",
   "name": "python",
   "nbconvert_exporter": "python",
   "pygments_lexer": "ipython3",
   "version": "3.11.9"
  }
 },
 "nbformat": 4,
 "nbformat_minor": 2
}
